{
 "cells": [
  {
   "cell_type": "markdown",
   "metadata": {},
   "source": [
    "Installing postgres using Homebrew.  \n",
    "https://www.dataquest.io/blog/install-postgresql-14-7-for-macos/?_gl=1*1vrbtn6*_gcl_au*NjQ1OTI0MzQxLjE3MTYyNzUyMDY."
   ]
  },
  {
   "cell_type": "code",
   "execution_count": 2,
   "metadata": {},
   "outputs": [],
   "source": [
    "%load_ext sql"
   ]
  },
  {
   "cell_type": "code",
   "execution_count": 3,
   "metadata": {},
   "outputs": [],
   "source": [
    "%sql postgresql://postgres@localhost:5432/northwind"
   ]
  },
  {
   "cell_type": "code",
   "execution_count": 4,
   "metadata": {},
   "outputs": [
    {
     "name": "stdout",
     "output_type": "stream",
     "text": [
      " * postgresql://postgres@localhost:5432/northwind\n",
      "14 rows affected.\n"
     ]
    },
    {
     "data": {
      "text/html": [
       "<table>\n",
       "    <thead>\n",
       "        <tr>\n",
       "            <th>name</th>\n",
       "            <th>type</th>\n",
       "        </tr>\n",
       "    </thead>\n",
       "    <tbody>\n",
       "        <tr>\n",
       "            <td>territories</td>\n",
       "            <td>BASE TABLE</td>\n",
       "        </tr>\n",
       "        <tr>\n",
       "            <td>order_details</td>\n",
       "            <td>BASE TABLE</td>\n",
       "        </tr>\n",
       "        <tr>\n",
       "            <td>employee_territories</td>\n",
       "            <td>BASE TABLE</td>\n",
       "        </tr>\n",
       "        <tr>\n",
       "            <td>us_states</td>\n",
       "            <td>BASE TABLE</td>\n",
       "        </tr>\n",
       "        <tr>\n",
       "            <td>customers</td>\n",
       "            <td>BASE TABLE</td>\n",
       "        </tr>\n",
       "        <tr>\n",
       "            <td>orders</td>\n",
       "            <td>BASE TABLE</td>\n",
       "        </tr>\n",
       "        <tr>\n",
       "            <td>employees</td>\n",
       "            <td>BASE TABLE</td>\n",
       "        </tr>\n",
       "        <tr>\n",
       "            <td>shippers</td>\n",
       "            <td>BASE TABLE</td>\n",
       "        </tr>\n",
       "        <tr>\n",
       "            <td>products</td>\n",
       "            <td>BASE TABLE</td>\n",
       "        </tr>\n",
       "        <tr>\n",
       "            <td>categories</td>\n",
       "            <td>BASE TABLE</td>\n",
       "        </tr>\n",
       "        <tr>\n",
       "            <td>suppliers</td>\n",
       "            <td>BASE TABLE</td>\n",
       "        </tr>\n",
       "        <tr>\n",
       "            <td>region</td>\n",
       "            <td>BASE TABLE</td>\n",
       "        </tr>\n",
       "        <tr>\n",
       "            <td>customer_demographics</td>\n",
       "            <td>BASE TABLE</td>\n",
       "        </tr>\n",
       "        <tr>\n",
       "            <td>customer_customer_demo</td>\n",
       "            <td>BASE TABLE</td>\n",
       "        </tr>\n",
       "    </tbody>\n",
       "</table>"
      ],
      "text/plain": [
       "[('territories', 'BASE TABLE'),\n",
       " ('order_details', 'BASE TABLE'),\n",
       " ('employee_territories', 'BASE TABLE'),\n",
       " ('us_states', 'BASE TABLE'),\n",
       " ('customers', 'BASE TABLE'),\n",
       " ('orders', 'BASE TABLE'),\n",
       " ('employees', 'BASE TABLE'),\n",
       " ('shippers', 'BASE TABLE'),\n",
       " ('products', 'BASE TABLE'),\n",
       " ('categories', 'BASE TABLE'),\n",
       " ('suppliers', 'BASE TABLE'),\n",
       " ('region', 'BASE TABLE'),\n",
       " ('customer_demographics', 'BASE TABLE'),\n",
       " ('customer_customer_demo', 'BASE TABLE')]"
      ]
     },
     "execution_count": 4,
     "metadata": {},
     "output_type": "execute_result"
    }
   ],
   "source": [
    "%%sql --only use this line if running in Jupyter Notebook\n",
    "SELECT table_name AS name,\n",
    "       table_type AS type\n",
    "  FROM information_schema.tables\n",
    " WHERE table_schema = 'public' AND table_type IN ('BASE TABLE', 'VIEW');"
   ]
  },
  {
   "cell_type": "code",
   "execution_count": 8,
   "metadata": {},
   "outputs": [
    {
     "name": "stdout",
     "output_type": "stream",
     "text": [
      " * postgresql://postgres@localhost:5432/northwind\n",
      "5 rows affected.\n"
     ]
    },
    {
     "data": {
      "text/html": [
       "<table>\n",
       "    <thead>\n",
       "        <tr>\n",
       "            <th>order_id</th>\n",
       "            <th>order_date</th>\n",
       "            <th>ship_country</th>\n",
       "            <th>customer_id</th>\n",
       "        </tr>\n",
       "    </thead>\n",
       "    <tbody>\n",
       "        <tr>\n",
       "            <td>10248</td>\n",
       "            <td>1996-07-04</td>\n",
       "            <td>France</td>\n",
       "            <td>VINET</td>\n",
       "        </tr>\n",
       "        <tr>\n",
       "            <td>10249</td>\n",
       "            <td>1996-07-05</td>\n",
       "            <td>Germany</td>\n",
       "            <td>TOMSP</td>\n",
       "        </tr>\n",
       "        <tr>\n",
       "            <td>10250</td>\n",
       "            <td>1996-07-08</td>\n",
       "            <td>Brazil</td>\n",
       "            <td>HANAR</td>\n",
       "        </tr>\n",
       "        <tr>\n",
       "            <td>10251</td>\n",
       "            <td>1996-07-08</td>\n",
       "            <td>France</td>\n",
       "            <td>VICTE</td>\n",
       "        </tr>\n",
       "        <tr>\n",
       "            <td>10252</td>\n",
       "            <td>1996-07-09</td>\n",
       "            <td>Belgium</td>\n",
       "            <td>SUPRD</td>\n",
       "        </tr>\n",
       "    </tbody>\n",
       "</table>"
      ],
      "text/plain": [
       "[(10248, datetime.date(1996, 7, 4), 'France', 'VINET'),\n",
       " (10249, datetime.date(1996, 7, 5), 'Germany', 'TOMSP'),\n",
       " (10250, datetime.date(1996, 7, 8), 'Brazil', 'HANAR'),\n",
       " (10251, datetime.date(1996, 7, 8), 'France', 'VICTE'),\n",
       " (10252, datetime.date(1996, 7, 9), 'Belgium', 'SUPRD')]"
      ]
     },
     "execution_count": 8,
     "metadata": {},
     "output_type": "execute_result"
    }
   ],
   "source": [
    "%%sql -- orders and customers\n",
    "SELECT \n",
    "    O.order_id, O.order_date, O.ship_country, O.customer_id\n",
    "FROM\n",
    "    orders O\n",
    "INNER JOIN customers C ON O.customer_id = C.customer_id\n",
    "LIMIT 5 "
   ]
  },
  {
   "cell_type": "code",
   "execution_count": null,
   "metadata": {},
   "outputs": [],
   "source": []
  }
 ],
 "metadata": {
  "kernelspec": {
   "display_name": "base",
   "language": "python",
   "name": "python3"
  },
  "language_info": {
   "codemirror_mode": {
    "name": "ipython",
    "version": 3
   },
   "file_extension": ".py",
   "mimetype": "text/x-python",
   "name": "python",
   "nbconvert_exporter": "python",
   "pygments_lexer": "ipython3",
   "version": "3.9.18"
  }
 },
 "nbformat": 4,
 "nbformat_minor": 2
}
